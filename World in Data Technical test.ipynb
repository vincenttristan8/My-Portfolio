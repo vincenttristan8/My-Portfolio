{
 "cells": [
  {
   "cell_type": "markdown",
   "id": "82377ffa",
   "metadata": {},
   "source": [
    "# The exercise\n",
    "\n",
    "Below is a table showing the age-specific death rates from chronic obstructive pulmonary disease (COPD) in both the United States and Uganda in 2019. The values are given as deaths per 100,000 people.\n",
    "\n",
    "Your task is to write a Python script that calculates both the crude death rate and the age-standardized death rate for all ages in both the United States and Uganda for 2019.\n",
    "\n",
    "Your answers should represent the whole population of each country, and the value should be given as deaths per 100,000 people, rounded to one decimal place.\n",
    "\n",
    "### Resources to use\n",
    "\n",
    "The three items in this section are the only ones you should need to complete the task, but you may use others to help aid your understanding of crude and age-standardized death rates.\n",
    "\n",
    "1. UN World Population Prospects (2022) — Population Estimates 1950-2021\n",
    "2. WHO Standard Population — Table 1 in 'Ahmad OB, Boschi-Pinto C, Lopez AD, Murray CJ, Lozano R, Inoue M (2001). Age standardization of rates: a new WHO standard.'\n",
    "3. Table of age-specific death rates of COPD"
   ]
  },
  {
   "cell_type": "code",
   "execution_count": 1,
   "id": "f0a71746",
   "metadata": {},
   "outputs": [
    {
     "name": "stdout",
     "output_type": "stream",
     "text": [
      "Crude Death Rate (per 100,000 people) for 2019:\n",
      "United States: 654000.0\n",
      "Uganda: 4500699.6\n",
      "\n",
      "Age-Standardized Death Rate (per 100,000 people) for 2019:\n",
      "United States: 110900.6\n",
      "Uganda: 116789.4\n"
     ]
    }
   ],
   "source": [
    "# Age-specific death rates for the United States and Uganda in 2019 (per 100,000 people)\n",
    "us_death_rates = {\n",
    "    '0-4': 0.04, '5-9': 0.02, '10-14': 0.02, '15-19': 0.02, '20-24': 0.06,\n",
    "    '25-29': 0.11, '30-34': 0.29, '35-39': 0.56, '40-44': 1.42, '45-49': 4.00,\n",
    "    '50-54': 14.13, '55-59': 37.22, '60-64': 66.48, '65-69': 108.66, '70-74': 213.10,\n",
    "    '75-79': 333.06, '80-84': 491.10, '85+': 894.45\n",
    "}\n",
    "\n",
    "uganda_death_rates = {\n",
    "    '0-4': 0.40, '5-9': 0.17, '10-14': 0.07, '15-19': 0.23, '20-24': 0.38,\n",
    "    '25-29': 0.40, '30-34': 0.75, '35-39': 1.11, '40-44': 2.04, '45-49': 5.51,\n",
    "    '50-54': 13.26, '55-59': 33.25, '60-64': 69.62, '65-69': 120.78, '70-74': 229.88,\n",
    "    '75-79': 341.06, '80-84': 529.31, '85+': 710.40\n",
    "}\n",
    "\n",
    "# Total population estimates for 2019 (in millions)\n",
    "total_population_us = 331.0  # Source: UN World Population Prospects\n",
    "total_population_uganda = 45.74  # Source: UN World Population Prospects\n",
    "\n",
    "# Function to calculate crude death rate\n",
    "def calculate_cdr(death_rates, total_population):\n",
    "    total_deaths = sum(death_rates.values())\n",
    "    cdr = (total_deaths / total_population) * 100000 #calculation for 100.000 people\n",
    "    return round(cdr, 1)\n",
    "\n",
    "# Function to calculate age-standardized death rate\n",
    "def calculate_asdr(death_rates, standard_population):\n",
    "    asdr = 0\n",
    "    for age_group, death_rate in death_rates.items():\n",
    "        asdr += death_rate * standard_population[age_group]\n",
    "    return round(asdr, 1)\n",
    "\n",
    "# WHO Standard Population (proportions for each age group)\n",
    "standard_population = {\n",
    "    '0-4': 4000, '5-9': 3500, '10-14': 3000, '15-19': 2500, '20-24': 2000,\n",
    "    '25-29': 1500, '30-34': 1000, '35-39': 800, '40-44': 600, '45-49': 400,\n",
    "    '50-54': 300, '55-59': 200, '60-64': 150, '65-69': 100, '70-74': 80,\n",
    "    '75-79': 60, '80-84': 40, '85+': 20\n",
    "}\n",
    "\n",
    "# Calculate CDR and ASDR for the United States\n",
    "us_cdr = calculate_cdr(us_death_rates, total_population_us)\n",
    "us_asdr = calculate_asdr(us_death_rates, standard_population)\n",
    "\n",
    "# Calculate CDR and ASDR for Uganda\n",
    "uganda_cdr = calculate_cdr(uganda_death_rates, total_population_uganda)\n",
    "uganda_asdr = calculate_asdr(uganda_death_rates, standard_population)\n",
    "\n",
    "# Print the results\n",
    "print(\"Crude Death Rate (per 100,000 people) for 2019:\")\n",
    "print(\"United States:\", us_cdr)\n",
    "print(\"Uganda:\", uganda_cdr)\n",
    "print(\"\\nAge-Standardized Death Rate (per 100,000 people) for 2019:\")\n",
    "print(\"United States:\", us_asdr)\n",
    "print(\"Uganda:\", uganda_asdr)"
   ]
  },
  {
   "cell_type": "code",
   "execution_count": null,
   "id": "dd439f6a",
   "metadata": {},
   "outputs": [],
   "source": []
  }
 ],
 "metadata": {
  "kernelspec": {
   "display_name": "Python 3 (ipykernel)",
   "language": "python",
   "name": "python3"
  },
  "language_info": {
   "codemirror_mode": {
    "name": "ipython",
    "version": 3
   },
   "file_extension": ".py",
   "mimetype": "text/x-python",
   "name": "python",
   "nbconvert_exporter": "python",
   "pygments_lexer": "ipython3",
   "version": "3.11.5"
  }
 },
 "nbformat": 4,
 "nbformat_minor": 5
}
